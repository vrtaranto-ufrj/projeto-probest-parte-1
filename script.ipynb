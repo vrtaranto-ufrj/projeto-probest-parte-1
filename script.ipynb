{
 "cells": [
  {
   "cell_type": "code",
   "execution_count": null,
   "id": "02a0171f",
   "metadata": {},
   "outputs": [],
   "source": [
    "%pip install pandas"
   ]
  },
  {
   "cell_type": "markdown",
   "id": "faa20fdc",
   "metadata": {},
   "source": [
    "# Projeto Probest - Parte 1: Análise Exploratória (EDA)\n",
    "\n",
    "Iniciando a Etapa 1 do projeto: Análise Exploratória de Dados (EDA)."
   ]
  },
  {
   "cell_type": "code",
   "execution_count": 14,
   "id": "7e623475",
   "metadata": {},
   "outputs": [],
   "source": [
    "import pandas as pd\n",
    "import numpy as np\n",
    "\n",
    "pd.set_option('display.max_rows', None)\n",
    "pd.set_option('display.max_columns', None)\n",
    "pd.set_option('display.width', 1000)"
   ]
  },
  {
   "cell_type": "markdown",
   "id": "7471fe14",
   "metadata": {},
   "source": [
    "## 1. Carregamento dos Dados\n",
    "\n",
    "Carregando o arquivo `ndt_tests_corrigido.csv` e verificando sua estrutura."
   ]
  },
  {
   "cell_type": "code",
   "execution_count": 7,
   "id": "051d8915",
   "metadata": {},
   "outputs": [
    {
     "name": "stdout",
     "output_type": "stream",
     "text": [
      "Dataset carregado: ndt_tests_corrigido.csv\n",
      "Formato: (7087, 8)\n",
      "\n",
      "Colunas disponíveis:\n",
      "['timestamp', 'download_throughput_bps', 'rtt_download_sec', 'upload_throughput_bps', 'rtt_upload_sec', 'packet_loss_percent', 'client', 'server']\n",
      "\n",
      "Verificando dados (primeiras linhas):\n",
      "                       timestamp  download_throughput_bps  rtt_download_sec  upload_throughput_bps  rtt_upload_sec  packet_loss_percent    client    server\n",
      "0  2025-08-09 15:28:02.000 +0000             8.223657e+07          0.231862           6.973217e+07        0.247727             0.000000  client12  server06\n",
      "1  2025-08-09 15:30:11.000 +0000             9.027315e+08          0.012000           8.521780e+08        0.005423             0.008226  client01  server07\n",
      "2  2025-08-10 04:27:43.000 +0000             5.910655e+08          0.014000           2.812188e+08        0.014544             5.954284  client13  server07\n",
      "3  2025-08-09 22:45:07.000 +0000             6.721139e+08          0.011000           1.135400e+08        0.010482             0.261528  client12  server07\n",
      "4  2025-08-10 04:49:21.000 +0000             8.122087e+08          0.009000           6.857905e+08        0.009368             1.381646  client03  server03\n"
     ]
    }
   ],
   "source": [
    "file_path = 'ndt_tests_corrigido.csv'\n",
    "\n",
    "try:\n",
    "    df = pd.read_csv(file_path)\n",
    "    print(f\"Dataset carregado: {file_path}\")\n",
    "    print(f\"Formato: {df.shape}\")\n",
    "    \n",
    "    print(\"\\nColunas disponíveis:\")\n",
    "    print(df.columns.tolist())\n",
    "    \n",
    "    print(\"\\nVerificando dados (primeiras linhas):\")\n",
    "    print(df.head())\n",
    "    \n",
    "except FileNotFoundError:\n",
    "    print(f\"ERRO: Arquivo não encontrado em '{file_path}'\")\n",
    "except Exception as e:\n",
    "    print(f\"Ocorreu um erro: {e}\")"
   ]
  },
  {
   "cell_type": "markdown",
   "id": "e04c8210",
   "metadata": {},
   "source": [
    "## 2. Pré-processamento: Normalização\n",
    "\n",
    "A coluna `packet_loss_percent` está em formato percentual (0-100). Para a modelagem (especialmente Beta-Binomial), precisamos dela como uma fração (0-1). Vamos criar uma nova coluna `packet_loss_fraction`."
   ]
  },
  {
   "cell_type": "code",
   "execution_count": 12,
   "id": "b2677284",
   "metadata": {},
   "outputs": [
    {
     "name": "stdout",
     "output_type": "stream",
     "text": [
      "Coluna 'packet_loss_fraction' criada.\n",
      "   packet_loss_percent  packet_loss_fraction\n",
      "0             0.000000              0.000000\n",
      "1             0.008226              0.000082\n",
      "2             5.954284              0.059543\n",
      "3             0.261528              0.002615\n",
      "4             1.381646              0.013816\n"
     ]
    }
   ],
   "source": [
    "# Criar a coluna de fração de perda dividindo por 100\n",
    "if 'packet_loss_percent' in df.columns:\n",
    "    df['packet_loss_fraction'] = df['packet_loss_percent'] / 100\n",
    "    print(\"Coluna 'packet_loss_fraction' criada.\")\n",
    "    \n",
    "    # Verificar a nova coluna\n",
    "    print(df[['packet_loss_percent', 'packet_loss_fraction']].head())\n",
    "else:\n",
    "    print(\"AVISO: Coluna 'packet_loss_percent' não encontrada.\")"
   ]
  },
  {
   "cell_type": "markdown",
   "id": "b841963b",
   "metadata": {},
   "source": [
    "## 3. Definição das Estatísticas e Variáveis (Versão Corrigida)\n",
    "\n",
    "Definindo as variáveis de interesse (com os nomes corretos do CSV) e as funções de agregação para as estatísticas descritivas."
   ]
  },
  {
   "cell_type": "code",
   "execution_count": 15,
   "id": "ae2a1c0e",
   "metadata": {},
   "outputs": [
    {
     "name": "stdout",
     "output_type": "stream",
     "text": [
      "Variáveis e estatísticas (corrigidas) definidas.\n"
     ]
    }
   ],
   "source": [
    "# Nomes corretos das colunas do CSV\n",
    "variables_to_analyze = [\n",
    "    'download_throughput_bps',\n",
    "    'upload_throughput_bps',\n",
    "    'rtt_download_sec',\n",
    "    'rtt_upload_sec',\n",
    "    'packet_loss_fraction'  # Usando a nova coluna normalizada\n",
    "]\n",
    "\n",
    "# Estatísticas solicitadas no PDF\n",
    "stats_to_calculate = {\n",
    "    'mean': 'mean',\n",
    "    'median': 'median',\n",
    "    'variance': 'var',\n",
    "    'std_dev': 'std',\n",
    "    'q_0.9': lambda x: x.quantile(0.9),\n",
    "    'q_0.99': lambda x: x.quantile(0.99)\n",
    "}\n",
    "\n",
    "# Nomes corretos das colunas de agrupamento\n",
    "group_by_client_col = 'client'\n",
    "group_by_server_col = 'server'\n",
    "\n",
    "print(\"Variáveis e estatísticas (corrigidas) definidas.\")"
   ]
  },
  {
   "cell_type": "markdown",
   "id": "f0230dec",
   "metadata": {},
   "source": [
    "## 4. Análise Agrupada por Cliente\n",
    "\n",
    "Cálculo das estatísticas descritivas para cada variável, agrupadas por `client`."
   ]
  },
  {
   "cell_type": "code",
   "execution_count": 17,
   "id": "89ba9534",
   "metadata": {},
   "outputs": [
    {
     "name": "stdout",
     "output_type": "stream",
     "text": [
      "ERRO: Chave não encontrada. Verifique os nomes das colunas. Detalhe: \"Column(s) ['mean', 'median', 'q_0.9', 'q_0.99', 'std_dev', 'variance'] do not exist\"\n"
     ]
    }
   ],
   "source": [
    "try:\n",
    "    stats_by_client = df.groupby(group_by_client_col)[variables_to_analyze].agg(stats_to_calculate)\n",
    "\n",
    "    print(\"--- Estatísticas por Cliente ---\")\n",
    "    print(stats_by_client)\n",
    "\n",
    "except KeyError as e:\n",
    "    print(f\"ERRO: Chave não encontrada. Verifique os nomes das colunas. Detalhe: {e}\")\n",
    "except Exception as e:\n",
    "    print(f\"Ocorreu um erro: {e}\")"
   ]
  },
  {
   "cell_type": "markdown",
   "id": "58ef1fdb",
   "metadata": {},
   "source": [
    "## 5. Análise Agrupada por Servidor\n",
    "\n",
    "Cálculo das estatísticas descritivas para cada variável, agrupadas por `server`."
   ]
  },
  {
   "cell_type": "code",
   "execution_count": 18,
   "id": "a22f8871",
   "metadata": {},
   "outputs": [
    {
     "name": "stdout",
     "output_type": "stream",
     "text": [
      "ERRO: Chave não encontrada. Verifique os nomes das colunas. Detalhe: \"Column(s) ['mean', 'median', 'q_0.9', 'q_0.99', 'std_dev', 'variance'] do not exist\"\n"
     ]
    }
   ],
   "source": [
    "try:\n",
    "    stats_by_server = df.groupby(group_by_server_col)[variables_to_analyze].agg(stats_to_calculate)\n",
    "\n",
    "    print(\"--- Estatísticas por Servidor ---\")\n",
    "    print(stats_by_server)\n",
    "\n",
    "except KeyError as e:\n",
    "    print(f\"ERRO: Chave não encontrada. Verifique os nomes das colunas. Detalhe: {e}\")\n",
    "except Exception as e:\n",
    "    print(f\"Ocorreu um erro: {e}\")"
   ]
  },
  {
   "cell_type": "markdown",
   "id": "058c2cde",
   "metadata": {},
   "source": [
    "## Próximos Passos (Início da Etapa 2)\n",
    "\n",
    "A Etapa 1 está concluída. As tabelas de resumo acima são a base para a próxima fase.\n",
    "\n",
    "**Para a Etapa 2**, precisamos selecionar duas entidades (dois clientes, ou um cliente e um servidor) que pareçam interessantes ou distintas para a análise gráfica.\n",
    "\n",
    "Analise os outputs acima e me diga quais entidades você quer selecionar."
   ]
  }
 ],
 "metadata": {
  "kernelspec": {
   "display_name": ".venv (3.13.9)",
   "language": "python",
   "name": "python3"
  },
  "language_info": {
   "codemirror_mode": {
    "name": "ipython",
    "version": 3
   },
   "file_extension": ".py",
   "mimetype": "text/x-python",
   "name": "python",
   "nbconvert_exporter": "python",
   "pygments_lexer": "ipython3",
   "version": "3.13.9"
  }
 },
 "nbformat": 4,
 "nbformat_minor": 5
}
