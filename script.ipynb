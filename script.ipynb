{
 "cells": [
  {
   "cell_type": "code",
   "execution_count": null,
   "id": "02a0171f",
   "metadata": {},
   "outputs": [],
   "source": [
    "%pip install pandas"
   ]
  },
  {
   "cell_type": "markdown",
   "id": "faa20fdc",
   "metadata": {},
   "source": [
    "# Projeto Probest - Parte 1: Análise Exploratória (EDA)\n",
    "\n",
    "Iniciando a Etapa 1 do projeto: Análise Exploratória de Dados (EDA)."
   ]
  },
  {
   "cell_type": "code",
   "execution_count": 6,
   "id": "7e623475",
   "metadata": {},
   "outputs": [],
   "source": [
    "import pandas as pd\n",
    "import numpy as np\n",
    "\n",
    "pd.set_option('display.max_rows', None)\n",
    "pd.set_option('display.max_columns', None)\n",
    "pd.set_option('display.width', 1000)"
   ]
  },
  {
   "cell_type": "markdown",
   "id": "7471fe14",
   "metadata": {},
   "source": [
    "## 1. Carregamento dos Dados\n",
    "\n",
    "Carregando o arquivo `ndt_tests_corrigido.csv` e verificando sua estrutura."
   ]
  },
  {
   "cell_type": "code",
   "execution_count": 7,
   "id": "051d8915",
   "metadata": {},
   "outputs": [
    {
     "name": "stdout",
     "output_type": "stream",
     "text": [
      "Dataset carregado: ndt_tests_corrigido.csv\n",
      "Formato: (7087, 8)\n",
      "\n",
      "Colunas disponíveis:\n",
      "['timestamp', 'download_throughput_bps', 'rtt_download_sec', 'upload_throughput_bps', 'rtt_upload_sec', 'packet_loss_percent', 'client', 'server']\n",
      "\n",
      "Verificando dados (primeiras linhas):\n",
      "                       timestamp  download_throughput_bps  rtt_download_sec  upload_throughput_bps  rtt_upload_sec  packet_loss_percent    client    server\n",
      "0  2025-08-09 15:28:02.000 +0000             8.223657e+07          0.231862           6.973217e+07        0.247727             0.000000  client12  server06\n",
      "1  2025-08-09 15:30:11.000 +0000             9.027315e+08          0.012000           8.521780e+08        0.005423             0.008226  client01  server07\n",
      "2  2025-08-10 04:27:43.000 +0000             5.910655e+08          0.014000           2.812188e+08        0.014544             5.954284  client13  server07\n",
      "3  2025-08-09 22:45:07.000 +0000             6.721139e+08          0.011000           1.135400e+08        0.010482             0.261528  client12  server07\n",
      "4  2025-08-10 04:49:21.000 +0000             8.122087e+08          0.009000           6.857905e+08        0.009368             1.381646  client03  server03\n"
     ]
    }
   ],
   "source": [
    "file_path = 'ndt_tests_corrigido.csv'\n",
    "\n",
    "try:\n",
    "    df = pd.read_csv(file_path)\n",
    "    print(f\"Dataset carregado: {file_path}\")\n",
    "    print(f\"Formato: {df.shape}\")\n",
    "    \n",
    "    print(\"\\nColunas disponíveis:\")\n",
    "    print(df.columns.tolist())\n",
    "    \n",
    "    print(\"\\nVerificando dados (primeiras linhas):\")\n",
    "    print(df.head())\n",
    "    \n",
    "except FileNotFoundError:\n",
    "    print(f\"ERRO: Arquivo não encontrado em '{file_path}'\")\n",
    "except Exception as e:\n",
    "    print(f\"Ocorreu um erro: {e}\")"
   ]
  },
  {
   "cell_type": "markdown",
   "id": "e04c8210",
   "metadata": {},
   "source": [
    "## 2. Pré-processamento: Normalização\n",
    "\n",
    "A coluna `packet_loss_percent` está em formato percentual (0-100). Para a modelagem (especialmente Beta-Binomial), precisamos dela como uma fração (0-1). Vamos criar uma nova coluna `packet_loss_fraction`."
   ]
  },
  {
   "cell_type": "code",
   "execution_count": 12,
   "id": "b2677284",
   "metadata": {},
   "outputs": [
    {
     "name": "stdout",
     "output_type": "stream",
     "text": [
      "Coluna 'packet_loss_fraction' criada.\n",
      "   packet_loss_percent  packet_loss_fraction\n",
      "0             0.000000              0.000000\n",
      "1             0.008226              0.000082\n",
      "2             5.954284              0.059543\n",
      "3             0.261528              0.002615\n",
      "4             1.381646              0.013816\n"
     ]
    }
   ],
   "source": [
    "# Criar a coluna de fração de perda dividindo por 100\n",
    "if 'packet_loss_percent' in df.columns:\n",
    "    df['packet_loss_fraction'] = df['packet_loss_percent'] / 100\n",
    "    print(\"Coluna 'packet_loss_fraction' criada.\")\n",
    "    \n",
    "    # Verificar a nova coluna\n",
    "    print(df[['packet_loss_percent', 'packet_loss_fraction']].head())\n",
    "else:\n",
    "    print(\"AVISO: Coluna 'packet_loss_percent' não encontrada.\")"
   ]
  },
  {
   "cell_type": "markdown",
   "id": "b841963b",
   "metadata": {},
   "source": [
    "## 3. Análise Agrupada por Cliente\n",
    "\n",
    "[cite_start]Cálculo das estatísticas descritivas para cada variável, agrupadas por `client_id`[cite: 1985]."
   ]
  },
  {
   "cell_type": "code",
   "execution_count": 13,
   "id": "ae2a1c0e",
   "metadata": {},
   "outputs": [
    {
     "name": "stdout",
     "output_type": "stream",
     "text": [
      "Variáveis e estatísticas (corrigidas) definidas.\n"
     ]
    }
   ],
   "source": [
    "# CORRIGIDO: Nomes das colunas conforme o CSV\n",
    "variables_to_analyze = [\n",
    "    'download_throughput_bps',\n",
    "    'upload_throughput_bps',\n",
    "    'rtt_download_sec',\n",
    "    'rtt_upload_sec',\n",
    "    'packet_loss_fraction'  # Usando a nova coluna normalizada\n",
    "]\n",
    "\n",
    "stats_to_calculate = {\n",
    "    'mean': 'mean',\n",
    "    'median': 'median',\n",
    "    'variance': 'var',\n",
    "    'std_dev': 'std',\n",
    "    'q_0.9': lambda x: x.quantile(0.9),\n",
    "    'q_0.99': lambda x: x.quantile(0.99)\n",
    "}\n",
    "\n",
    "# CORRIGIDO: Nomes das colunas de agrupamento\n",
    "group_by_client_col = 'client'\n",
    "group_by_server_col = 'server'\n",
    "\n",
    "print(\"Variáveis e estatísticas (corrigidas) definidas.\")"
   ]
  },
  {
   "cell_type": "markdown",
   "id": "f0230dec",
   "metadata": {},
   "source": [
    "## 4. Análise Agrupada por Servidor\n",
    "\n",
    "[cite_start]Cálculo das estatísticas descritivas para cada variável, agrupadas por `server_id`[cite: 1985]."
   ]
  },
  {
   "cell_type": "code",
   "execution_count": 11,
   "id": "89ba9534",
   "metadata": {},
   "outputs": [
    {
     "ename": "KeyError",
     "evalue": "'server_id'",
     "output_type": "error",
     "traceback": [
      "\u001b[31m---------------------------------------------------------------------------\u001b[39m",
      "\u001b[31mKeyError\u001b[39m                                  Traceback (most recent call last)",
      "\u001b[36mCell\u001b[39m\u001b[36m \u001b[39m\u001b[32mIn[11]\u001b[39m\u001b[32m, line 1\u001b[39m\n\u001b[32m----> \u001b[39m\u001b[32m1\u001b[39m stats_by_server = \u001b[43mdf\u001b[49m\u001b[43m.\u001b[49m\u001b[43mgroupby\u001b[49m\u001b[43m(\u001b[49m\u001b[43mgroup_by_server_col\u001b[49m\u001b[43m)\u001b[49m[variables_to_analyze].agg(stats_to_calculate)\n\u001b[32m      3\u001b[39m \u001b[38;5;28mprint\u001b[39m(\u001b[33m\"\u001b[39m\u001b[33m--- Estatísticas por Servidor ---\u001b[39m\u001b[33m\"\u001b[39m)\n\u001b[32m      4\u001b[39m \u001b[38;5;28mprint\u001b[39m(stats_by_server)\n",
      "\u001b[36mFile \u001b[39m\u001b[32me:\\Documentos\\UFRJ\\10 Periodo\\Probest\\trabalho\\projeto-probest-parte-1\\.venv\\Lib\\site-packages\\pandas\\core\\frame.py:9210\u001b[39m, in \u001b[36mDataFrame.groupby\u001b[39m\u001b[34m(self, by, axis, level, as_index, sort, group_keys, observed, dropna)\u001b[39m\n\u001b[32m   9207\u001b[39m \u001b[38;5;28;01mif\u001b[39;00m level \u001b[38;5;129;01mis\u001b[39;00m \u001b[38;5;28;01mNone\u001b[39;00m \u001b[38;5;129;01mand\u001b[39;00m by \u001b[38;5;129;01mis\u001b[39;00m \u001b[38;5;28;01mNone\u001b[39;00m:\n\u001b[32m   9208\u001b[39m     \u001b[38;5;28;01mraise\u001b[39;00m \u001b[38;5;167;01mTypeError\u001b[39;00m(\u001b[33m\"\u001b[39m\u001b[33mYou have to supply one of \u001b[39m\u001b[33m'\u001b[39m\u001b[33mby\u001b[39m\u001b[33m'\u001b[39m\u001b[33m and \u001b[39m\u001b[33m'\u001b[39m\u001b[33mlevel\u001b[39m\u001b[33m'\u001b[39m\u001b[33m\"\u001b[39m)\n\u001b[32m-> \u001b[39m\u001b[32m9210\u001b[39m \u001b[38;5;28;01mreturn\u001b[39;00m \u001b[43mDataFrameGroupBy\u001b[49m\u001b[43m(\u001b[49m\n\u001b[32m   9211\u001b[39m \u001b[43m    \u001b[49m\u001b[43mobj\u001b[49m\u001b[43m=\u001b[49m\u001b[38;5;28;43mself\u001b[39;49m\u001b[43m,\u001b[49m\n\u001b[32m   9212\u001b[39m \u001b[43m    \u001b[49m\u001b[43mkeys\u001b[49m\u001b[43m=\u001b[49m\u001b[43mby\u001b[49m\u001b[43m,\u001b[49m\n\u001b[32m   9213\u001b[39m \u001b[43m    \u001b[49m\u001b[43maxis\u001b[49m\u001b[43m=\u001b[49m\u001b[43maxis\u001b[49m\u001b[43m,\u001b[49m\n\u001b[32m   9214\u001b[39m \u001b[43m    \u001b[49m\u001b[43mlevel\u001b[49m\u001b[43m=\u001b[49m\u001b[43mlevel\u001b[49m\u001b[43m,\u001b[49m\n\u001b[32m   9215\u001b[39m \u001b[43m    \u001b[49m\u001b[43mas_index\u001b[49m\u001b[43m=\u001b[49m\u001b[43mas_index\u001b[49m\u001b[43m,\u001b[49m\n\u001b[32m   9216\u001b[39m \u001b[43m    \u001b[49m\u001b[43msort\u001b[49m\u001b[43m=\u001b[49m\u001b[43msort\u001b[49m\u001b[43m,\u001b[49m\n\u001b[32m   9217\u001b[39m \u001b[43m    \u001b[49m\u001b[43mgroup_keys\u001b[49m\u001b[43m=\u001b[49m\u001b[43mgroup_keys\u001b[49m\u001b[43m,\u001b[49m\n\u001b[32m   9218\u001b[39m \u001b[43m    \u001b[49m\u001b[43mobserved\u001b[49m\u001b[43m=\u001b[49m\u001b[43mobserved\u001b[49m\u001b[43m,\u001b[49m\n\u001b[32m   9219\u001b[39m \u001b[43m    \u001b[49m\u001b[43mdropna\u001b[49m\u001b[43m=\u001b[49m\u001b[43mdropna\u001b[49m\u001b[43m,\u001b[49m\n\u001b[32m   9220\u001b[39m \u001b[43m\u001b[49m\u001b[43m)\u001b[49m\n",
      "\u001b[36mFile \u001b[39m\u001b[32me:\\Documentos\\UFRJ\\10 Periodo\\Probest\\trabalho\\projeto-probest-parte-1\\.venv\\Lib\\site-packages\\pandas\\core\\groupby\\groupby.py:1331\u001b[39m, in \u001b[36mGroupBy.__init__\u001b[39m\u001b[34m(self, obj, keys, axis, level, grouper, exclusions, selection, as_index, sort, group_keys, observed, dropna)\u001b[39m\n\u001b[32m   1328\u001b[39m \u001b[38;5;28mself\u001b[39m.dropna = dropna\n\u001b[32m   1330\u001b[39m \u001b[38;5;28;01mif\u001b[39;00m grouper \u001b[38;5;129;01mis\u001b[39;00m \u001b[38;5;28;01mNone\u001b[39;00m:\n\u001b[32m-> \u001b[39m\u001b[32m1331\u001b[39m     grouper, exclusions, obj = \u001b[43mget_grouper\u001b[49m\u001b[43m(\u001b[49m\n\u001b[32m   1332\u001b[39m \u001b[43m        \u001b[49m\u001b[43mobj\u001b[49m\u001b[43m,\u001b[49m\n\u001b[32m   1333\u001b[39m \u001b[43m        \u001b[49m\u001b[43mkeys\u001b[49m\u001b[43m,\u001b[49m\n\u001b[32m   1334\u001b[39m \u001b[43m        \u001b[49m\u001b[43maxis\u001b[49m\u001b[43m=\u001b[49m\u001b[43maxis\u001b[49m\u001b[43m,\u001b[49m\n\u001b[32m   1335\u001b[39m \u001b[43m        \u001b[49m\u001b[43mlevel\u001b[49m\u001b[43m=\u001b[49m\u001b[43mlevel\u001b[49m\u001b[43m,\u001b[49m\n\u001b[32m   1336\u001b[39m \u001b[43m        \u001b[49m\u001b[43msort\u001b[49m\u001b[43m=\u001b[49m\u001b[43msort\u001b[49m\u001b[43m,\u001b[49m\n\u001b[32m   1337\u001b[39m \u001b[43m        \u001b[49m\u001b[43mobserved\u001b[49m\u001b[43m=\u001b[49m\u001b[38;5;28;43;01mFalse\u001b[39;49;00m\u001b[43m \u001b[49m\u001b[38;5;28;43;01mif\u001b[39;49;00m\u001b[43m \u001b[49m\u001b[43mobserved\u001b[49m\u001b[43m \u001b[49m\u001b[38;5;129;43;01mis\u001b[39;49;00m\u001b[43m \u001b[49m\u001b[43mlib\u001b[49m\u001b[43m.\u001b[49m\u001b[43mno_default\u001b[49m\u001b[43m \u001b[49m\u001b[38;5;28;43;01melse\u001b[39;49;00m\u001b[43m \u001b[49m\u001b[43mobserved\u001b[49m\u001b[43m,\u001b[49m\n\u001b[32m   1338\u001b[39m \u001b[43m        \u001b[49m\u001b[43mdropna\u001b[49m\u001b[43m=\u001b[49m\u001b[38;5;28;43mself\u001b[39;49m\u001b[43m.\u001b[49m\u001b[43mdropna\u001b[49m\u001b[43m,\u001b[49m\n\u001b[32m   1339\u001b[39m \u001b[43m    \u001b[49m\u001b[43m)\u001b[49m\n\u001b[32m   1341\u001b[39m \u001b[38;5;28;01mif\u001b[39;00m observed \u001b[38;5;129;01mis\u001b[39;00m lib.no_default:\n\u001b[32m   1342\u001b[39m     \u001b[38;5;28;01mif\u001b[39;00m \u001b[38;5;28many\u001b[39m(ping._passed_categorical \u001b[38;5;28;01mfor\u001b[39;00m ping \u001b[38;5;129;01min\u001b[39;00m grouper.groupings):\n",
      "\u001b[36mFile \u001b[39m\u001b[32me:\\Documentos\\UFRJ\\10 Periodo\\Probest\\trabalho\\projeto-probest-parte-1\\.venv\\Lib\\site-packages\\pandas\\core\\groupby\\grouper.py:1043\u001b[39m, in \u001b[36mget_grouper\u001b[39m\u001b[34m(obj, key, axis, level, sort, observed, validate, dropna)\u001b[39m\n\u001b[32m   1041\u001b[39m         in_axis, level, gpr = \u001b[38;5;28;01mFalse\u001b[39;00m, gpr, \u001b[38;5;28;01mNone\u001b[39;00m\n\u001b[32m   1042\u001b[39m     \u001b[38;5;28;01melse\u001b[39;00m:\n\u001b[32m-> \u001b[39m\u001b[32m1043\u001b[39m         \u001b[38;5;28;01mraise\u001b[39;00m \u001b[38;5;167;01mKeyError\u001b[39;00m(gpr)\n\u001b[32m   1044\u001b[39m \u001b[38;5;28;01melif\u001b[39;00m \u001b[38;5;28misinstance\u001b[39m(gpr, Grouper) \u001b[38;5;129;01mand\u001b[39;00m gpr.key \u001b[38;5;129;01mis\u001b[39;00m \u001b[38;5;129;01mnot\u001b[39;00m \u001b[38;5;28;01mNone\u001b[39;00m:\n\u001b[32m   1045\u001b[39m     \u001b[38;5;66;03m# Add key to exclusions\u001b[39;00m\n\u001b[32m   1046\u001b[39m     exclusions.add(gpr.key)\n",
      "\u001b[31mKeyError\u001b[39m: 'server_id'"
     ]
    }
   ],
   "source": [
    "stats_by_server = df.groupby(group_by_server_col)[variables_to_analyze].agg(stats_to_calculate)\n",
    "\n",
    "print(\"--- Estatísticas por Servidor ---\")\n",
    "print(stats_by_server)"
   ]
  },
  {
   "cell_type": "markdown",
   "id": "58ef1fdb",
   "metadata": {},
   "source": [
    "## Próximos Passos (Início da Etapa 2)\n",
    "\n",
    "A Etapa 1 está concluída. [cite_start]As tabelas de resumo acima [cite: 1986] são a base para a próxima fase.\n",
    "\n",
    "[cite_start]**Para a Etapa 2**, precisamos selecionar duas entidades (dois clientes, ou um cliente e um servidor) que pareçam interessantes ou distintas para a análise gráfica[cite: 1988].\n",
    "\n",
    "Analise os outputs acima e me diga quais entidades você quer selecionar."
   ]
  }
 ],
 "metadata": {
  "kernelspec": {
   "display_name": ".venv (3.13.9)",
   "language": "python",
   "name": "python3"
  },
  "language_info": {
   "codemirror_mode": {
    "name": "ipython",
    "version": 3
   },
   "file_extension": ".py",
   "mimetype": "text/x-python",
   "name": "python",
   "nbconvert_exporter": "python",
   "pygments_lexer": "ipython3",
   "version": "3.13.9"
  }
 },
 "nbformat": 4,
 "nbformat_minor": 5
}
