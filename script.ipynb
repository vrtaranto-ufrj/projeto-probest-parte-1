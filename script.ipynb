{
 "cells": [
  {
   "cell_type": "code",
   "execution_count": null,
   "id": "02a0171f",
   "metadata": {},
   "outputs": [],
   "source": [
    "%pip install pandas"
   ]
  },
  {
   "cell_type": "markdown",
   "id": "faa20fdc",
   "metadata": {},
   "source": [
    "# Projeto Probest - Parte 1: Análise Exploratória (EDA)\n",
    "\n",
    "Iniciando a Etapa 1 do projeto: Análise Exploratória de Dados (EDA)."
   ]
  },
  {
   "cell_type": "code",
   "execution_count": 14,
   "id": "7e623475",
   "metadata": {},
   "outputs": [],
   "source": [
    "import pandas as pd\n",
    "import numpy as np\n",
    "\n",
    "pd.set_option('display.max_rows', None)\n",
    "pd.set_option('display.max_columns', None)\n",
    "pd.set_option('display.width', 1000)"
   ]
  },
  {
   "cell_type": "markdown",
   "id": "7471fe14",
   "metadata": {},
   "source": [
    "## 1. Carregamento dos Dados\n",
    "\n",
    "Carregando o arquivo `ndt_tests_corrigido.csv` e verificando sua estrutura."
   ]
  },
  {
   "cell_type": "code",
   "execution_count": 7,
   "id": "051d8915",
   "metadata": {},
   "outputs": [
    {
     "name": "stdout",
     "output_type": "stream",
     "text": [
      "Dataset carregado: ndt_tests_corrigido.csv\n",
      "Formato: (7087, 8)\n",
      "\n",
      "Colunas disponíveis:\n",
      "['timestamp', 'download_throughput_bps', 'rtt_download_sec', 'upload_throughput_bps', 'rtt_upload_sec', 'packet_loss_percent', 'client', 'server']\n",
      "\n",
      "Verificando dados (primeiras linhas):\n",
      "                       timestamp  download_throughput_bps  rtt_download_sec  upload_throughput_bps  rtt_upload_sec  packet_loss_percent    client    server\n",
      "0  2025-08-09 15:28:02.000 +0000             8.223657e+07          0.231862           6.973217e+07        0.247727             0.000000  client12  server06\n",
      "1  2025-08-09 15:30:11.000 +0000             9.027315e+08          0.012000           8.521780e+08        0.005423             0.008226  client01  server07\n",
      "2  2025-08-10 04:27:43.000 +0000             5.910655e+08          0.014000           2.812188e+08        0.014544             5.954284  client13  server07\n",
      "3  2025-08-09 22:45:07.000 +0000             6.721139e+08          0.011000           1.135400e+08        0.010482             0.261528  client12  server07\n",
      "4  2025-08-10 04:49:21.000 +0000             8.122087e+08          0.009000           6.857905e+08        0.009368             1.381646  client03  server03\n"
     ]
    }
   ],
   "source": [
    "file_path = 'ndt_tests_corrigido.csv'\n",
    "\n",
    "try:\n",
    "    df = pd.read_csv(file_path)\n",
    "    print(f\"Dataset carregado: {file_path}\")\n",
    "    print(f\"Formato: {df.shape}\")\n",
    "    \n",
    "    print(\"\\nColunas disponíveis:\")\n",
    "    print(df.columns.tolist())\n",
    "    \n",
    "    print(\"\\nVerificando dados (primeiras linhas):\")\n",
    "    print(df.head())\n",
    "    \n",
    "except FileNotFoundError:\n",
    "    print(f\"ERRO: Arquivo não encontrado em '{file_path}'\")\n",
    "except Exception as e:\n",
    "    print(f\"Ocorreu um erro: {e}\")"
   ]
  },
  {
   "cell_type": "markdown",
   "id": "e04c8210",
   "metadata": {},
   "source": [
    "## 2. Pré-processamento: Normalização\n",
    "\n",
    "A coluna `packet_loss_percent` está em formato percentual (0-100). Para a modelagem (especialmente Beta-Binomial), precisamos dela como uma fração (0-1). Vamos criar uma nova coluna `packet_loss_fraction`."
   ]
  },
  {
   "cell_type": "code",
   "execution_count": 12,
   "id": "b2677284",
   "metadata": {},
   "outputs": [
    {
     "name": "stdout",
     "output_type": "stream",
     "text": [
      "Coluna 'packet_loss_fraction' criada.\n",
      "   packet_loss_percent  packet_loss_fraction\n",
      "0             0.000000              0.000000\n",
      "1             0.008226              0.000082\n",
      "2             5.954284              0.059543\n",
      "3             0.261528              0.002615\n",
      "4             1.381646              0.013816\n"
     ]
    }
   ],
   "source": [
    "# Criar a coluna de fração de perda dividindo por 100\n",
    "if 'packet_loss_percent' in df.columns:\n",
    "    df['packet_loss_fraction'] = df['packet_loss_percent'] / 100\n",
    "    print(\"Coluna 'packet_loss_fraction' criada.\")\n",
    "    \n",
    "    # Verificar a nova coluna\n",
    "    print(df[['packet_loss_percent', 'packet_loss_fraction']].head())\n",
    "else:\n",
    "    print(\"AVISO: Coluna 'packet_loss_percent' não encontrada.\")"
   ]
  },
  {
   "cell_type": "markdown",
   "id": "b841963b",
   "metadata": {},
   "source": [
    "## 3. Definição das Estatísticas e Variáveis (Versão Corrigida)\n",
    "\n",
    "Definindo as variáveis de interesse (com os nomes corretos do CSV) e as funções de agregação para as estatísticas descritivas."
   ]
  },
  {
   "cell_type": "code",
   "execution_count": 20,
   "id": "ae2a1c0e",
   "metadata": {},
   "outputs": [
    {
     "name": "stdout",
     "output_type": "stream",
     "text": [
      "Variáveis e estatísticas (corrigidas) definidas.\n"
     ]
    }
   ],
   "source": [
    "variables_to_analyze = [\n",
    "    'download_throughput_bps',\n",
    "    'upload_throughput_bps',\n",
    "    'rtt_download_sec',\n",
    "    'rtt_upload_sec',\n",
    "    'packet_loss_fraction'\n",
    "]\n",
    "\n",
    "group_by_client_col = 'client'\n",
    "group_by_server_col = 'server'\n",
    "\n",
    "def q_0_9(x):\n",
    "    return x.quantile(0.9)\n",
    "\n",
    "def q_0_99(x):\n",
    "    return x.quantile(0.99)\n",
    "\n",
    "stats_to_calculate = ['mean', 'median', 'var', 'std', q_0_9, q_0_99]\n",
    "\n",
    "print(\"Variáveis e estatísticas (corrigidas) definidas.\")"
   ]
  },
  {
   "cell_type": "markdown",
   "id": "f0230dec",
   "metadata": {},
   "source": [
    "## 4. Análise Agrupada por Cliente\n",
    "\n",
    "Cálculo das estatísticas descritivas para cada variável, agrupadas por `client`."
   ]
  },
  {
   "cell_type": "code",
   "execution_count": 22,
   "id": "89ba9534",
   "metadata": {},
   "outputs": [
    {
     "name": "stdout",
     "output_type": "stream",
     "text": [
      "--- Estatísticas por Cliente ---\n",
      "         download_throughput_bps                                                                       upload_throughput_bps                                                                       rtt_download_sec                                                   rtt_upload_sec                                                   packet_loss_fraction                                                  \n",
      "                            mean        median           var       std_dev         q_0_9        q_0_99                  mean        median           var       std_dev         q_0_9        q_0_99             mean    median       var   std_dev     q_0_9    q_0_99           mean    median       var   std_dev     q_0_9    q_0_99                 mean    median       var   std_dev     q_0_9    q_0_99\n",
      "client                                                                                                                                                                                                                                                                                                                                                                                                       \n",
      "client01            6.503291e+08  8.928297e+08  1.194969e+17  3.456833e+08  9.146995e+08  9.316001e+08          7.140497e+08  8.788760e+08  8.298229e+16  2.880665e+08  9.112114e+08  9.173684e+08         0.044897  0.011000  0.002887  0.053727  0.120452  0.125607       0.031305  0.006363  0.002170  0.046584  0.119980  0.122391             0.005241  0.000055  0.000279  0.016689  0.007665  0.084549\n",
      "client02            6.393095e+08  8.243167e+08  1.059231e+17  3.254583e+08  9.112720e+08  9.279318e+08          5.619516e+08  6.296997e+08  4.506852e+16  2.122935e+08  7.572713e+08  8.872988e+08         0.039058  0.010000  0.002748  0.052420  0.118634  0.125138       0.029352  0.004243  0.002319  0.048154  0.117383  0.125348             0.007814  0.000655  0.000353  0.018798  0.018138  0.109424\n",
      "client03            6.132784e+08  8.124454e+08  1.092923e+17  3.305939e+08  9.097245e+08  9.217498e+08          5.212098e+08  5.927732e+08  4.406752e+16  2.099227e+08  7.321164e+08  7.631240e+08         0.044448  0.010000  0.003161  0.056224  0.119971  0.219486       0.032986  0.004359  0.002554  0.050533  0.118953  0.187624             0.006750  0.000749  0.000207  0.014378  0.016331  0.071747\n",
      "client04            5.805789e+08  7.991501e+08  1.199981e+17  3.464074e+08  9.087497e+08  9.260149e+08          5.489862e+08  6.223242e+08  6.146564e+16  2.479226e+08  8.596349e+08  8.917607e+08         0.050854  0.012000  0.003052  0.055240  0.122000  0.126624       0.035188  0.008341  0.004895  0.069962  0.121319  0.126381             0.005128  0.000493  0.000173  0.013153  0.011248  0.063045\n",
      "client05            3.095310e+08  1.069629e+08  1.120610e+17  3.347551e+08  8.925198e+08  9.136230e+08          3.477522e+08  1.085945e+08  1.234723e+17  3.513863e+08  8.986519e+08  9.109387e+08         0.045166  0.010000  0.003010  0.054865  0.119000  0.219124       0.029707  0.004112  0.002236  0.047286  0.118595  0.120995             0.063119  0.082764  0.002805  0.052962  0.126384  0.150083\n",
      "client06            6.112584e+08  8.302359e+08  1.160490e+17  3.406596e+08  9.081191e+08  9.252597e+08          6.065347e+08  7.386987e+08  6.593926e+16  2.567864e+08  8.097262e+08  8.874315e+08         0.046761  0.009945  0.003196  0.056537  0.118998  0.219145       0.031782  0.003858  0.004665  0.068298  0.118525  0.218559             0.008322  0.007171  0.000103  0.010173  0.018338  0.046484\n",
      "client07            6.297420e+08  8.344190e+08  1.104368e+17  3.323203e+08  9.075370e+08  9.244060e+08          4.912368e+08  5.508294e+08  3.713048e+16  1.926927e+08  6.947005e+08  8.150925e+08         0.046287  0.013000  0.003320  0.057620  0.122670  0.223010       0.034640  0.008962  0.002666  0.051629  0.122365  0.223122             0.005297  0.000876  0.000243  0.015588  0.009957  0.074133\n",
      "client08            2.338896e+08  9.639645e+07  8.546441e+16  2.923430e+08  8.582934e+08  9.119319e+08          2.258985e+08  9.732450e+07  6.238042e+16  2.497607e+08  7.103778e+08  8.757234e+08         0.054419  0.010000  0.004539  0.067369  0.120000  0.221000       0.040777  0.005875  0.003861  0.062137  0.120000  0.220907             0.050610  0.033348  0.003696  0.060792  0.184734  0.208623\n",
      "client09            6.452400e+08  8.941335e+08  1.232736e+17  3.511034e+08  9.189296e+08  9.326012e+08          4.526501e+08  1.902069e+08  1.510978e+17  3.887130e+08  9.073304e+08  9.162978e+08         0.044974  0.010000  0.003012  0.054878  0.119566  0.218591       0.033937  0.004345  0.002561  0.050606  0.119106  0.123821             0.004833  0.000731  0.000192  0.013848  0.007198  0.076008\n",
      "client10            2.317913e+08  2.211362e+08  2.756848e+16  1.660376e+08  4.164909e+08  4.233809e+08          3.734781e+07  4.076488e+07  8.590236e+13  9.268353e+06  4.558896e+07  4.633407e+07         0.087202  0.015269  0.010696  0.103423  0.230650  0.246041       0.067731  0.016558  0.008788  0.093744  0.233527  0.247175             0.014803  0.000075  0.000828  0.028779  0.062928  0.108921\n",
      "client11            5.046348e+08  6.906440e+08  8.322927e+16  2.884948e+08  7.953866e+08  8.000833e+08          2.673941e+08  3.829509e+08  2.726939e+16  1.651344e+08  4.183385e+08  4.236864e+08         0.012883  0.012963  0.000039  0.006243  0.016000  0.021115       0.015223  0.015494  0.000083  0.009137  0.017775  0.034509             0.011972  0.005410  0.000379  0.019457  0.032570  0.090839\n",
      "client12            4.647659e+08  6.360041e+08  8.115420e+16  2.848758e+08  7.184514e+08  7.889955e+08          9.217118e+07  9.603852e+07  9.255567e+14  3.042296e+07  1.258113e+08  1.596947e+08         0.086485  0.014583  0.010782  0.103834  0.229861  0.243094       0.073462  0.017329  0.009467  0.097298  0.233845  0.248905             0.000638  0.000061  0.000019  0.004304  0.001188  0.002751\n",
      "client13            5.939332e+08  5.961439e+08  4.850877e+14  2.202471e+07  5.986331e+08  6.007020e+08          2.947645e+08  2.989613e+08  2.750560e+14  1.658481e+07  3.014027e+08  3.026280e+08         0.011748  0.011926  0.000032  0.005656  0.015000  0.020232       0.012986  0.014284  0.000025  0.004995  0.015339  0.023667             0.053361  0.055479  0.000147  0.012125  0.066985  0.074303\n"
     ]
    }
   ],
   "source": [
    "try:\n",
    "    stats_by_client = df.groupby(group_by_client_col)[variables_to_analyze].agg(stats_to_calculate)\n",
    "    \n",
    "    stats_by_client.rename(columns={'std': 'std_dev'}, level=1, inplace=True)\n",
    "\n",
    "    print(\"--- Estatísticas por Cliente ---\")\n",
    "    print(stats_by_client)\n",
    "\n",
    "except KeyError as e:\n",
    "    print(f\"ERRO: Chave não encontrada. Verifique os nomes das colunas. Detalhe: {e}\")\n",
    "except Exception as e:\n",
    "    print(f\"Ocorreu um erro: {e}\")"
   ]
  },
  {
   "cell_type": "markdown",
   "id": "58ef1fdb",
   "metadata": {},
   "source": [
    "## 5. Análise Agrupada por Servidor\n",
    "\n",
    "Cálculo das estatísticas descritivas para cada variável, agrupadas por `server`."
   ]
  },
  {
   "cell_type": "code",
   "execution_count": 23,
   "id": "a22f8871",
   "metadata": {},
   "outputs": [
    {
     "name": "stdout",
     "output_type": "stream",
     "text": [
      "--- Estatísticas por Servidor ---\n",
      "         download_throughput_bps                                                                       upload_throughput_bps                                                                       rtt_download_sec                                                   rtt_upload_sec                                                   packet_loss_fraction                                                  \n",
      "                            mean        median           var       std_dev         q_0_9        q_0_99                  mean        median           var       std_dev         q_0_9        q_0_99             mean    median       var   std_dev     q_0_9    q_0_99           mean    median       var   std_dev     q_0_9    q_0_99                 mean    median       var   std_dev     q_0_9    q_0_99\n",
      "server                                                                                                                                                                                                                                                                                                                                                                                                       \n",
      "server01            6.422286e+08  7.617551e+08  7.223160e+16  2.687594e+08  9.034707e+08  9.179391e+08          4.370932e+08  4.214657e+08  9.676444e+16  3.110698e+08  8.955420e+08  9.100930e+08         0.011294  0.011000  0.000005  0.002282  0.014420  0.017562       0.012636  0.011140  0.000016  0.004020  0.018974  0.023730             0.022572  0.010169  0.000785  0.028025  0.064347  0.112422\n",
      "server02            6.348600e+08  7.617787e+08  7.813493e+16  2.795263e+08  9.018715e+08  9.185781e+08          4.405861e+08  4.314056e+08  1.102855e+17  3.320927e+08  8.968825e+08  9.077288e+08         0.011379  0.011000  0.000007  0.002640  0.015000  0.018632       0.011302  0.011246  0.001800  0.042429  0.020144  0.024678             0.019779  0.007935  0.000814  0.028524  0.062737  0.116649\n",
      "server03            6.384317e+08  7.683434e+08  7.765862e+16  2.786730e+08  9.038616e+08  9.201615e+08          4.482422e+08  4.517895e+08  1.064002e+17  3.261905e+08  8.993172e+08  9.120037e+08         0.011467  0.011000  0.000006  0.002470  0.015000  0.018040       0.012940  0.011203  0.000019  0.004312  0.020076  0.025741             0.021300  0.008350  0.000856  0.029253  0.064564  0.115284\n",
      "server04            1.965831e+08  1.684050e+08  3.145487e+16  1.773552e+08  5.962645e+08  7.838987e+08          1.572507e+08  1.819155e+08  8.205735e+15  9.058551e+07  2.977978e+08  4.139289e+08         0.127587  0.118385  0.004460  0.066782  0.223872  0.243328       0.129122  0.118861  0.004596  0.067795  0.231352  0.243247             0.019390  0.000000  0.001578  0.039725  0.063533  0.189949\n",
      "server05            2.012037e+08  1.688241e+08  3.350480e+16  1.830432e+08  5.966670e+08  7.303679e+08          1.582695e+08  1.811563e+08  8.750848e+15  9.354597e+07  2.999871e+08  4.156628e+08         0.123079  0.118946  0.004574  0.067632  0.223493  0.241111       0.124031  0.118818  0.004738  0.068835  0.228080  0.248317             0.027471  0.000000  0.002687  0.051833  0.108583  0.203460\n",
      "server06            2.053733e+08  1.695638e+08  3.636863e+16  1.907056e+08  5.968390e+08  7.840103e+08          1.574334e+08  1.813089e+08  9.821520e+15  9.910358e+07  2.989021e+08  4.205582e+08         0.129429  0.118838  0.005038  0.070981  0.227665  0.242656       0.128835  0.119000  0.007510  0.086659  0.232358  0.247993             0.019486  0.000000  0.001796  0.042378  0.064155  0.193470\n",
      "server07            5.852195e+08  7.092044e+08  1.079835e+17  3.286084e+08  9.110961e+08  9.291516e+08          4.491448e+08  5.132518e+08  9.297521e+16  3.049184e+08  8.377135e+08  9.136223e+08         0.029614  0.009000  0.002880  0.053669  0.117000  0.229671       0.007644  0.005448  0.000026  0.005120  0.015242  0.019740             0.016653  0.000892  0.000970  0.031141  0.058373  0.134794\n"
     ]
    }
   ],
   "source": [
    "try:\n",
    "    stats_by_server = df.groupby(group_by_server_col)[variables_to_analyze].agg(stats_to_calculate)\n",
    "    \n",
    "    stats_by_server.rename(columns={'std': 'std_dev'}, level=1, inplace=True)\n",
    "\n",
    "    print(\"--- Estatísticas por Servidor ---\")\n",
    "    print(stats_by_server)\n",
    "\n",
    "except KeyError as e:\n",
    "    print(f\"ERRO: Chave não encontrada. Verifique os nomes das colunas. Detalhe: {e}\")\n",
    "except Exception as e:\n",
    "    print(f\"Ocorreu um erro: {e}\")"
   ]
  },
  {
   "cell_type": "markdown",
   "id": "058c2cde",
   "metadata": {},
   "source": [
    "## Próximos Passos (Início da Etapa 2)\n",
    "\n",
    "A Etapa 1 está concluída. As tabelas de resumo acima são a base para a próxima fase.\n",
    "\n",
    "**Para a Etapa 2**, precisamos selecionar duas entidades (dois clientes, ou um cliente e um servidor) que pareçam interessantes ou distintas para a análise gráfica.\n",
    "\n",
    "Analise os outputs acima e me diga quais entidades você quer selecionar."
   ]
  }
 ],
 "metadata": {
  "kernelspec": {
   "display_name": ".venv (3.13.9)",
   "language": "python",
   "name": "python3"
  },
  "language_info": {
   "codemirror_mode": {
    "name": "ipython",
    "version": 3
   },
   "file_extension": ".py",
   "mimetype": "text/x-python",
   "name": "python",
   "nbconvert_exporter": "python",
   "pygments_lexer": "ipython3",
   "version": "3.13.9"
  }
 },
 "nbformat": 4,
 "nbformat_minor": 5
}
